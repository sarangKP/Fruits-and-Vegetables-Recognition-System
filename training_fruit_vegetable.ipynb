{
  "nbformat": 4,
  "nbformat_minor": 0,
  "metadata": {
    "colab": {
      "provenance": []
    },
    "kernelspec": {
      "name": "python3",
      "display_name": "Python 3"
    },
    "language_info": {
      "name": "python"
    }
  },
  "cells": [
    {
      "cell_type": "markdown",
      "source": [
        "Importing Data Set"
      ],
      "metadata": {
        "id": "dPi3O44OevrW"
      }
    },
    {
      "cell_type": "code",
      "source": [
        "from google.colab import drive\n",
        "drive.mount('/content/drive')"
      ],
      "metadata": {
        "colab": {
          "base_uri": "https://localhost:8080/"
        },
        "id": "0KlOpk-AZZem",
        "outputId": "9ead917e-6cd5-4bc2-ff77-01f720f19788"
      },
      "execution_count": null,
      "outputs": [
        {
          "output_type": "stream",
          "name": "stdout",
          "text": [
            "Drive already mounted at /content/drive; to attempt to forcibly remount, call drive.mount(\"/content/drive\", force_remount=True).\n"
          ]
        }
      ]
    },
    {
      "cell_type": "markdown",
      "source": [
        "#Importing Libraries"
      ],
      "metadata": {
        "id": "4_ZAMv0YZ3zK"
      }
    },
    {
      "cell_type": "code",
      "execution_count": null,
      "metadata": {
        "id": "snYACHc8ed8q"
      },
      "outputs": [],
      "source": [
        "import tensorflow as tf\n",
        "import matplotlib.pyplot as plt"
      ]
    },
    {
      "cell_type": "markdown",
      "source": [
        "# Data Preprocessing"
      ],
      "metadata": {
        "id": "PgLuGU6kaRUI"
      }
    },
    {
      "cell_type": "markdown",
      "source": [
        "##Training Image preprocessing"
      ],
      "metadata": {
        "id": "M_1w-PMlbOsr"
      }
    },
    {
      "cell_type": "code",
      "source": [
        "training_set = tf.keras.utils.image_dataset_from_directory(\n",
        "    '/content/drive/MyDrive/Fruit_Vegetable_Training/train',\n",
        "    labels=\"inferred\",\n",
        "    label_mode=\"categorical\",\n",
        "    class_names=None,\n",
        "    color_mode=\"rgb\",\n",
        "    batch_size=32,\n",
        "    image_size=(64, 64),\n",
        "    shuffle=True,\n",
        "    seed=None,\n",
        "    validation_split=None,\n",
        "    subset=None,\n",
        "    interpolation=\"bilinear\",\n",
        "    follow_links=False,\n",
        "    crop_to_aspect_ratio=False\n",
        ")"
      ],
      "metadata": {
        "colab": {
          "base_uri": "https://localhost:8080/"
        },
        "id": "Loged7f9aUWT",
        "outputId": "0a946dce-520a-4dc3-8b4a-adf8a4856382"
      },
      "execution_count": null,
      "outputs": [
        {
          "output_type": "stream",
          "name": "stdout",
          "text": [
            "Found 3115 files belonging to 36 classes.\n"
          ]
        }
      ]
    },
    {
      "cell_type": "markdown",
      "source": [
        "##Validation Image Processing"
      ],
      "metadata": {
        "id": "zk5UCycCgcIt"
      }
    },
    {
      "cell_type": "code",
      "source": [
        "validation_set = tf.keras.utils.image_dataset_from_directory(\n",
        "    '/content/drive/MyDrive/Fruit_Vegetable_Training/validation',\n",
        "    labels=\"inferred\",\n",
        "    label_mode=\"categorical\",\n",
        "    class_names=None,\n",
        "    color_mode=\"rgb\",\n",
        "    batch_size=32,\n",
        "    image_size=(64, 64),\n",
        "    shuffle=True,\n",
        "    seed=None,\n",
        "    validation_split=None,\n",
        "    subset=None,\n",
        "    interpolation=\"bilinear\",\n",
        "    follow_links=False,\n",
        "    crop_to_aspect_ratio=False\n",
        ")"
      ],
      "metadata": {
        "colab": {
          "base_uri": "https://localhost:8080/"
        },
        "id": "dF1W99Ffgfg9",
        "outputId": "db235d21-5378-4cd8-8a6e-b6c1af789524"
      },
      "execution_count": null,
      "outputs": [
        {
          "output_type": "stream",
          "name": "stdout",
          "text": [
            "Found 351 files belonging to 36 classes.\n"
          ]
        }
      ]
    },
    {
      "cell_type": "markdown",
      "source": [
        "#Building Model"
      ],
      "metadata": {
        "id": "LbPuvKpTkU9Z"
      }
    },
    {
      "cell_type": "code",
      "source": [
        "cnn = tf.keras.models.Sequential()"
      ],
      "metadata": {
        "id": "uBB51ZQWkd7c"
      },
      "execution_count": null,
      "outputs": []
    },
    {
      "cell_type": "markdown",
      "source": [
        "##Building Convulation Layer"
      ],
      "metadata": {
        "id": "srs8f_HblPYe"
      }
    },
    {
      "cell_type": "code",
      "source": [
        "cnn.add(tf.keras.layers.Conv2D(filters=64, kernel_size=3, activation='relu', input_shape=[64,64,3]))\n",
        "cnn.add(tf.keras.layers.MaxPool2D(pool_size=2,strides=2))"
      ],
      "metadata": {
        "id": "sxpY2SdclUSB"
      },
      "execution_count": null,
      "outputs": []
    },
    {
      "cell_type": "code",
      "source": [
        "cnn.add(tf.keras.layers.Conv2D(filters=64, kernel_size=3, activation='relu'))\n",
        "cnn.add(tf.keras.layers.MaxPool2D(pool_size=2,strides=2))"
      ],
      "metadata": {
        "id": "IA6nR7XJozrW"
      },
      "execution_count": null,
      "outputs": []
    },
    {
      "cell_type": "code",
      "source": [
        "cnn.add(tf.keras.layers.Dropout(0.5))  #To avoid overfitting"
      ],
      "metadata": {
        "id": "LoZ_tasZpMmo"
      },
      "execution_count": null,
      "outputs": []
    },
    {
      "cell_type": "code",
      "source": [
        "cnn.add(tf.keras.layers.Flatten())"
      ],
      "metadata": {
        "id": "E6JEp9jPpYGA"
      },
      "execution_count": null,
      "outputs": []
    },
    {
      "cell_type": "code",
      "source": [
        "cnn.add(tf.keras.layers.Dense(units=128,activation='relu'))"
      ],
      "metadata": {
        "id": "ysLBtuN_plcw"
      },
      "execution_count": null,
      "outputs": []
    },
    {
      "cell_type": "code",
      "source": [
        "#Output Layer\n",
        "cnn.add(tf.keras.layers.Dense(units=36,activation='softmax'))"
      ],
      "metadata": {
        "id": "7IfaR9psqEjN"
      },
      "execution_count": null,
      "outputs": []
    },
    {
      "cell_type": "markdown",
      "source": [
        "#Compiling and Training Phase"
      ],
      "metadata": {
        "id": "FNfxcS8yqc1-"
      }
    },
    {
      "cell_type": "code",
      "source": [
        "cnn.compile(optimizer='rmsprop',loss='categorical_crossentropy',metrics=['accuracy'])"
      ],
      "metadata": {
        "id": "2GT72SAfPny7"
      },
      "execution_count": null,
      "outputs": []
    },
    {
      "cell_type": "code",
      "source": [
        "training_history = cnn.fit(x=training_set,validation_data=validation_set,epochs=30)"
      ],
      "metadata": {
        "colab": {
          "base_uri": "https://localhost:8080/"
        },
        "id": "yuy85SRaQpPb",
        "outputId": "f761f2b5-284e-4c65-9620-bc7b50292287"
      },
      "execution_count": null,
      "outputs": [
        {
          "output_type": "stream",
          "name": "stdout",
          "text": [
            "Epoch 1/30\n",
            "98/98 [==============================] - 480s 5s/step - loss: 3.7095 - accuracy: 0.0408 - val_loss: 16.8109 - val_accuracy: 0.0285\n",
            "Epoch 2/30\n",
            "98/98 [==============================] - 120s 1s/step - loss: 4.3871 - accuracy: 0.0510 - val_loss: 3.5461 - val_accuracy: 0.0855\n",
            "Epoch 3/30\n",
            "98/98 [==============================] - 112s 1s/step - loss: 3.7197 - accuracy: 0.0777 - val_loss: 3.2278 - val_accuracy: 0.2393\n",
            "Epoch 4/30\n",
            "98/98 [==============================] - 119s 1s/step - loss: 3.7128 - accuracy: 0.1005 - val_loss: 3.0714 - val_accuracy: 0.2450\n",
            "Epoch 5/30\n",
            "98/98 [==============================] - 120s 1s/step - loss: 3.6132 - accuracy: 0.1474 - val_loss: 2.6848 - val_accuracy: 0.3704\n",
            "Epoch 6/30\n",
            "98/98 [==============================] - 109s 1s/step - loss: 3.4361 - accuracy: 0.1981 - val_loss: 2.5037 - val_accuracy: 0.3903\n",
            "Epoch 7/30\n",
            "98/98 [==============================] - 118s 1s/step - loss: 3.1389 - accuracy: 0.2443 - val_loss: 2.3184 - val_accuracy: 0.4501\n",
            "Epoch 8/30\n",
            "98/98 [==============================] - 110s 1s/step - loss: 3.6158 - accuracy: 0.3021 - val_loss: 18.7544 - val_accuracy: 0.1425\n",
            "Epoch 9/30\n",
            "98/98 [==============================] - 117s 1s/step - loss: 2.9891 - accuracy: 0.3457 - val_loss: 2.0916 - val_accuracy: 0.5014\n",
            "Epoch 10/30\n",
            "98/98 [==============================] - 119s 1s/step - loss: 2.4191 - accuracy: 0.4157 - val_loss: 2.0978 - val_accuracy: 0.5698\n",
            "Epoch 11/30\n",
            "98/98 [==============================] - 119s 1s/step - loss: 2.4286 - accuracy: 0.4472 - val_loss: 1.6185 - val_accuracy: 0.6809\n",
            "Epoch 12/30\n",
            "98/98 [==============================] - 107s 1s/step - loss: 2.2158 - accuracy: 0.4831 - val_loss: 1.6083 - val_accuracy: 0.7123\n",
            "Epoch 13/30\n",
            "98/98 [==============================] - 118s 1s/step - loss: 1.9991 - accuracy: 0.5197 - val_loss: 1.5687 - val_accuracy: 0.7265\n",
            "Epoch 14/30\n",
            "98/98 [==============================] - 109s 1s/step - loss: 1.9425 - accuracy: 0.5669 - val_loss: 1.8244 - val_accuracy: 0.6496\n",
            "Epoch 15/30\n",
            "98/98 [==============================] - 117s 1s/step - loss: 2.0151 - accuracy: 0.6035 - val_loss: 3.9063 - val_accuracy: 0.5385\n",
            "Epoch 16/30\n",
            "98/98 [==============================] - 109s 1s/step - loss: 1.9256 - accuracy: 0.6096 - val_loss: 1.7821 - val_accuracy: 0.7407\n",
            "Epoch 17/30\n",
            "98/98 [==============================] - 119s 1s/step - loss: 1.5283 - accuracy: 0.6475 - val_loss: 1.5166 - val_accuracy: 0.7464\n",
            "Epoch 18/30\n",
            "98/98 [==============================] - 117s 1s/step - loss: 1.6632 - accuracy: 0.6571 - val_loss: 1.3644 - val_accuracy: 0.7920\n",
            "Epoch 19/30\n",
            "98/98 [==============================] - 109s 1s/step - loss: 1.3972 - accuracy: 0.6793 - val_loss: 1.3974 - val_accuracy: 0.8006\n",
            "Epoch 20/30\n",
            "98/98 [==============================] - 107s 1s/step - loss: 1.3576 - accuracy: 0.6976 - val_loss: 2.2777 - val_accuracy: 0.7094\n",
            "Epoch 21/30\n",
            "98/98 [==============================] - 117s 1s/step - loss: 1.3281 - accuracy: 0.7175 - val_loss: 2.1412 - val_accuracy: 0.7379\n",
            "Epoch 22/30\n",
            "98/98 [==============================] - 109s 1s/step - loss: 1.3009 - accuracy: 0.7323 - val_loss: 1.9701 - val_accuracy: 0.7578\n",
            "Epoch 23/30\n",
            "98/98 [==============================] - 108s 1s/step - loss: 1.2508 - accuracy: 0.7387 - val_loss: 1.7386 - val_accuracy: 0.8177\n",
            "Epoch 24/30\n",
            "98/98 [==============================] - 118s 1s/step - loss: 1.3446 - accuracy: 0.7544 - val_loss: 1.4695 - val_accuracy: 0.8177\n",
            "Epoch 25/30\n",
            "98/98 [==============================] - 119s 1s/step - loss: 1.2100 - accuracy: 0.7554 - val_loss: 1.2417 - val_accuracy: 0.8746\n",
            "Epoch 26/30\n",
            "98/98 [==============================] - 118s 1s/step - loss: 1.1130 - accuracy: 0.7846 - val_loss: 1.5526 - val_accuracy: 0.8006\n",
            "Epoch 27/30\n",
            "98/98 [==============================] - 118s 1s/step - loss: 1.0087 - accuracy: 0.7878 - val_loss: 1.1928 - val_accuracy: 0.9060\n",
            "Epoch 28/30\n",
            "98/98 [==============================] - 121s 1s/step - loss: 1.0435 - accuracy: 0.8026 - val_loss: 1.3441 - val_accuracy: 0.8376\n",
            "Epoch 29/30\n",
            "98/98 [==============================] - 111s 1s/step - loss: 0.9372 - accuracy: 0.8022 - val_loss: 1.3739 - val_accuracy: 0.9060\n",
            "Epoch 30/30\n",
            "98/98 [==============================] - 108s 1s/step - loss: 1.0863 - accuracy: 0.8093 - val_loss: 5.3893 - val_accuracy: 0.6182\n"
          ]
        }
      ]
    },
    {
      "cell_type": "markdown",
      "source": [
        "#Saving Model"
      ],
      "metadata": {
        "id": "FKxgkW3plYkv"
      }
    },
    {
      "cell_type": "code",
      "source": [
        "cnn.save('trained_model.h5')"
      ],
      "metadata": {
        "id": "7jDuAgNzb0nh"
      },
      "execution_count": null,
      "outputs": []
    },
    {
      "cell_type": "code",
      "source": [
        "training_history.history  #Return Dictionary of History"
      ],
      "metadata": {
        "colab": {
          "base_uri": "https://localhost:8080/"
        },
        "id": "2ZDNizchc1Wm",
        "outputId": "91dd8f0e-4958-42fc-843b-a719ef9521d4"
      },
      "execution_count": null,
      "outputs": [
        {
          "output_type": "execute_result",
          "data": {
            "text/plain": [
              "{'loss': [3.7094619274139404,\n",
              "  4.387084484100342,\n",
              "  3.7197248935699463,\n",
              "  3.7127861976623535,\n",
              "  3.61319637298584,\n",
              "  3.436124324798584,\n",
              "  3.1388800144195557,\n",
              "  3.6158089637756348,\n",
              "  2.9890575408935547,\n",
              "  2.419132709503174,\n",
              "  2.4285826683044434,\n",
              "  2.2158470153808594,\n",
              "  1.9990891218185425,\n",
              "  1.9425064325332642,\n",
              "  2.0151195526123047,\n",
              "  1.9256019592285156,\n",
              "  1.5283321142196655,\n",
              "  1.6631929874420166,\n",
              "  1.3971872329711914,\n",
              "  1.357578992843628,\n",
              "  1.328126072883606,\n",
              "  1.300910234451294,\n",
              "  1.2508037090301514,\n",
              "  1.3446431159973145,\n",
              "  1.2100085020065308,\n",
              "  1.1130067110061646,\n",
              "  1.008691668510437,\n",
              "  1.04348623752594,\n",
              "  0.9371553659439087,\n",
              "  1.0863432884216309],\n",
              " 'accuracy': [0.04077046364545822,\n",
              "  0.05104333907365799,\n",
              "  0.07768860459327698,\n",
              "  0.1004815399646759,\n",
              "  0.14735151827335358,\n",
              "  0.1980738341808319,\n",
              "  0.24430176615715027,\n",
              "  0.3020866811275482,\n",
              "  0.34574639797210693,\n",
              "  0.4157303273677826,\n",
              "  0.4471909999847412,\n",
              "  0.483146071434021,\n",
              "  0.5197432041168213,\n",
              "  0.5669341683387756,\n",
              "  0.6035313010215759,\n",
              "  0.609630823135376,\n",
              "  0.6475120186805725,\n",
              "  0.6571428775787354,\n",
              "  0.6792937517166138,\n",
              "  0.6975923180580139,\n",
              "  0.7174959778785706,\n",
              "  0.7322632670402527,\n",
              "  0.7386837601661682,\n",
              "  0.7544141411781311,\n",
              "  0.7553772330284119,\n",
              "  0.7845906615257263,\n",
              "  0.7878009676933289,\n",
              "  0.8025681972503662,\n",
              "  0.802247166633606,\n",
              "  0.8093097805976868],\n",
              " 'val_loss': [16.81093978881836,\n",
              "  3.5461387634277344,\n",
              "  3.2278430461883545,\n",
              "  3.0713844299316406,\n",
              "  2.6847586631774902,\n",
              "  2.503737449645996,\n",
              "  2.318434476852417,\n",
              "  18.754411697387695,\n",
              "  2.0915563106536865,\n",
              "  2.097827911376953,\n",
              "  1.6184711456298828,\n",
              "  1.6083297729492188,\n",
              "  1.56866455078125,\n",
              "  1.8243980407714844,\n",
              "  3.9063453674316406,\n",
              "  1.782112956047058,\n",
              "  1.5165573358535767,\n",
              "  1.3644007444381714,\n",
              "  1.397408366203308,\n",
              "  2.277731418609619,\n",
              "  2.1411871910095215,\n",
              "  1.9700570106506348,\n",
              "  1.73855459690094,\n",
              "  1.4694812297821045,\n",
              "  1.2416969537734985,\n",
              "  1.5525970458984375,\n",
              "  1.1928400993347168,\n",
              "  1.3440948724746704,\n",
              "  1.3739473819732666,\n",
              "  5.389260768890381],\n",
              " 'val_accuracy': [0.028490029275417328,\n",
              "  0.08547008782625198,\n",
              "  0.23931623995304108,\n",
              "  0.2450142502784729,\n",
              "  0.37037035822868347,\n",
              "  0.39031338691711426,\n",
              "  0.45014244318008423,\n",
              "  0.14245013892650604,\n",
              "  0.5014244914054871,\n",
              "  0.5698005557060242,\n",
              "  0.680911660194397,\n",
              "  0.7122507095336914,\n",
              "  0.7264957427978516,\n",
              "  0.6495726704597473,\n",
              "  0.5384615659713745,\n",
              "  0.7407407164573669,\n",
              "  0.74643874168396,\n",
              "  0.7920227646827698,\n",
              "  0.8005697727203369,\n",
              "  0.7094017267227173,\n",
              "  0.7378917336463928,\n",
              "  0.7578347325325012,\n",
              "  0.8176637887954712,\n",
              "  0.8176637887954712,\n",
              "  0.874643862247467,\n",
              "  0.8005697727203369,\n",
              "  0.9059829115867615,\n",
              "  0.8376068472862244,\n",
              "  0.9059829115867615,\n",
              "  0.6182336211204529]}"
            ]
          },
          "metadata": {},
          "execution_count": 22
        }
      ]
    },
    {
      "cell_type": "code",
      "source": [
        "#Recording History in json\n",
        "import json\n",
        "with open('training_hist.json','w') as f:\n",
        "  json.dump(training_history.history,f)"
      ],
      "metadata": {
        "id": "Yvdy79EZb8hV"
      },
      "execution_count": null,
      "outputs": []
    },
    {
      "cell_type": "code",
      "source": [
        "print(training_history.history.keys())"
      ],
      "metadata": {
        "colab": {
          "base_uri": "https://localhost:8080/"
        },
        "id": "wFVMdwyicDtn",
        "outputId": "676c4dac-2ada-4b30-8d56-e543f4480763"
      },
      "execution_count": null,
      "outputs": [
        {
          "output_type": "stream",
          "name": "stdout",
          "text": [
            "dict_keys(['loss', 'accuracy', 'val_loss', 'val_accuracy'])\n"
          ]
        }
      ]
    },
    {
      "cell_type": "markdown",
      "source": [
        "##Calculating Accurcay of Model Achieved on Validation Set"
      ],
      "metadata": {
        "id": "EwLeV0BCd6iL"
      }
    },
    {
      "cell_type": "code",
      "source": [
        "print('Validation set accuracy : {} %'.format(training_history.history['val_accuracy'][-1]*100))"
      ],
      "metadata": {
        "colab": {
          "base_uri": "https://localhost:8080/"
        },
        "id": "vnis4M7FeDzm",
        "outputId": "8e77c50d-3081-4d75-a07c-bd927477c447"
      },
      "execution_count": null,
      "outputs": [
        {
          "output_type": "stream",
          "name": "stdout",
          "text": [
            "Validation set accuracy : 61.82336211204529 %\n"
          ]
        }
      ]
    },
    {
      "cell_type": "markdown",
      "source": [
        "#Accuracy Visualization"
      ],
      "metadata": {
        "id": "tzsqi31WBO2S"
      }
    },
    {
      "cell_type": "markdown",
      "source": [
        "##Training Visualization\n"
      ],
      "metadata": {
        "id": "zNIxNK_eBbTF"
      }
    },
    {
      "cell_type": "code",
      "source": [
        "epochs=[i for i in range (1,31)]\n",
        "plt.plot(epochs,training_history.history['accuracy'],color='red')\n",
        "plt.xlabel('No. of Epochs')\n",
        "plt.ylabel('Training Accuracy')\n",
        "plt.title('Visualization of Training Accuracy Results')\n",
        "plt.show()"
      ],
      "metadata": {
        "colab": {
          "base_uri": "https://localhost:8080/",
          "height": 472
        },
        "id": "pbeH8SCbBe-0",
        "outputId": "fa251af3-9d1d-42ff-ce4d-2948990a09d4"
      },
      "execution_count": null,
      "outputs": [
        {
          "output_type": "display_data",
          "data": {
            "text/plain": [
              "<Figure size 640x480 with 1 Axes>"
            ],
            "image/png": "[encoded data removed]"
          },
          "metadata": {}
        }
      ]
    },
    {
      "cell_type": "markdown",
      "source": [
        "#Validation Accuracy"
      ],
      "metadata": {
        "id": "j3SJb0iNN_Sa"
      }
    },
    {
      "cell_type": "code",
      "source": [
        "plt.plot(epochs,training_history.history['val_accuracy'],color='blue')\n",
        "plt.xlabel('No. of Epochs')\n",
        "plt.ylabel(\"Validation Accuracy\")\n",
        "plt.title(\"Visualization of Validation Accuracy result\")\n",
        "plt.show()"
      ],
      "metadata": {
        "colab": {
          "base_uri": "https://localhost:8080/",
          "height": 472
        },
        "id": "gKSiZaH2OFVT",
        "outputId": "1e4a5999-ba68-41b6-d7db-0a7f11ed5fa3"
      },
      "execution_count": null,
      "outputs": [
        {
          "output_type": "display_data",
          "data": {
            "text/plain": [
              "<Figure size 640x480 with 1 Axes>"
            ],
            "image/png": "[encoded data removed]"
          },
          "metadata": {}
        }
      ]
    }
  ]
}